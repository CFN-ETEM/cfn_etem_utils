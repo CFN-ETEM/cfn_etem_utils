{
 "cells": [
  {
   "cell_type": "code",
   "execution_count": null,
   "metadata": {},
   "outputs": [],
   "source": [
    "import plotly.offline as py\n",
    "py.init_notebook_mode()"
   ]
  },
  {
   "cell_type": "code",
   "execution_count": null,
   "metadata": {},
   "outputs": [],
   "source": [
    "import os, glob\n",
    "\n",
    "from cfntem.particle_tracking.io import load_dm4_file, binarize_file_list\n",
    "from cfntem.particle_tracking.image_processing import ImageEnhance, ImageMerge, ImageBinarization\n",
    "from cfntem.particle_tracking.gui.image_visualization import ImageVisualizationPlotly\n",
    "from cfntem.particle_tracking.gui.parameter_tuner import ImageEnhanceTuner, ImageBinarizationTuner, ImageMergeTuner"
   ]
  },
  {
   "cell_type": "code",
   "execution_count": null,
   "metadata": {},
   "outputs": [],
   "source": [
    "img_dm4 = load_dm4_file(\"test_pic/Capture1_Hour_00_Minute_04_Second_11_Frame_0006.dm4\")\n",
    "img_plot_size = ImageVisualizationPlotly.infer_plot_size_from_image(img_dm4, 400)\n",
    "half_img_plot_size = ImageVisualizationPlotly.infer_plot_size_from_image(img_dm4, 250)\n",
    "vis = ImageVisualizationPlotly(img_plot_size)"
   ]
  },
  {
   "cell_type": "code",
   "execution_count": null,
   "metadata": {},
   "outputs": [],
   "source": [
    "vis.show_image(img_dm4, img_plot_size)"
   ]
  },
  {
   "cell_type": "code",
   "execution_count": null,
   "metadata": {},
   "outputs": [],
   "source": [
    "vis.show_histogram(img_dm4, img_plot_size)"
   ]
  },
  {
   "cell_type": "code",
   "execution_count": null,
   "metadata": {},
   "outputs": [],
   "source": [
    "enhance_tuner = ImageEnhanceTuner(img_dm4, half_img_plot_size)\n",
    "enhance_tuner.show()"
   ]
  },
  {
   "cell_type": "code",
   "execution_count": null,
   "metadata": {},
   "outputs": [],
   "source": [
    "if not os.path.exists(\"bal_params.json\"):\n",
    "    enhance_tuner.save_params(\"bal_params.json\")\n",
    "else:\n",
    "    print(\"preprocesing parameters file already exists, skip writting\")"
   ]
  },
  {
   "cell_type": "code",
   "execution_count": null,
   "metadata": {},
   "outputs": [],
   "source": [
    "enhance_processor = ImageEnhance(\"bal_params.json\")\n",
    "img_bal = enhance_processor.process(img_dm4)\n",
    "vis.show_image(img_bal, img_plot_size)"
   ]
  },
  {
   "cell_type": "code",
   "execution_count": null,
   "metadata": {},
   "outputs": [],
   "source": [
    "vis.show_histogram(img_bal, img_plot_size)"
   ]
  },
  {
   "cell_type": "code",
   "execution_count": null,
   "metadata": {},
   "outputs": [],
   "source": [
    "bin_processor = ImageBinarization()\n",
    "bin_tuner = ImageBinarizationTuner(img_bal, img_plot_size, bin_processor)\n",
    "bin_tuner.show()"
   ]
  },
  {
   "cell_type": "code",
   "execution_count": null,
   "metadata": {},
   "outputs": [],
   "source": [
    "if not os.path.exists(\"bin_params.json\"):\n",
    "    bin_tuner.save_params(\"bin_params.json\")\n",
    "else:\n",
    "    print(\"binarization parameters file already exists, skip parameter tuning step\")"
   ]
  },
  {
   "cell_type": "code",
   "execution_count": null,
   "metadata": {},
   "outputs": [],
   "source": [
    "bin_processor.load_params(\"bin_params.json\")\n",
    "img_bin = bin_processor.process(img_bal)\n",
    "vis.show_image(img_bin, img_plot_size)"
   ]
  },
  {
   "cell_type": "code",
   "execution_count": null,
   "metadata": {},
   "outputs": [],
   "source": [
    "test_series = sorted(list(glob.glob(\"test_pic/time_series/*.dm4\", recursive=True)))\n",
    "merge_processor = ImageMerge()\n",
    "merger_tuner = ImageMergeTuner(test_series, img_plot_size, pre_processors=[enhance_processor, bin_processor], processor=merge_processor)\n",
    "merger_tuner.show()"
   ]
  },
  {
   "cell_type": "code",
   "execution_count": null,
   "metadata": {},
   "outputs": [],
   "source": [
    "merge_processor = ImageMerge(\"mer_params.json\")"
   ]
  },
  {
   "cell_type": "code",
   "execution_count": null,
   "metadata": {},
   "outputs": [],
   "source": [
    "img_mer, img_marked, trust_ratio = binarize_file_list(test_series, 5, \n",
    "    processors=[enhance_processor, bin_processor, merge_processor], \n",
    "    out_file=\"bin_pic/merged_bin.png\",\n",
    "    record_file=\"record_pic/merged_9frames.png\",\n",
    "    estimate_error=True)\n",
    "print(\"Detection Trust Ratio\", trust_ratio)"
   ]
  },
  {
   "cell_type": "code",
   "execution_count": null,
   "metadata": {},
   "outputs": [],
   "source": []
  }
 ],
 "metadata": {
  "kernelspec": {
   "display_name": "Python 3",
   "language": "python",
   "name": "python3"
  },
  "language_info": {
   "codemirror_mode": {
    "name": "ipython",
    "version": 3
   },
   "file_extension": ".py",
   "mimetype": "text/x-python",
   "name": "python",
   "nbconvert_exporter": "python",
   "pygments_lexer": "ipython3",
   "version": "3.6.8"
  }
 },
 "nbformat": 4,
 "nbformat_minor": 2
}
